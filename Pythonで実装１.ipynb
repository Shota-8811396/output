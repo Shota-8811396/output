{
  "nbformat": 4,
  "nbformat_minor": 0,
  "metadata": {
    "colab": {
      "provenance": [],
      "authorship_tag": "ABX9TyN7ubrNWWjZ3yCbwm4CwYfs",
      "include_colab_link": true
    },
    "kernelspec": {
      "name": "python3",
      "display_name": "Python 3"
    },
    "language_info": {
      "name": "python"
    }
  },
  "cells": [
    {
      "cell_type": "markdown",
      "metadata": {
        "id": "view-in-github",
        "colab_type": "text"
      },
      "source": [
        "<a href=\"https://colab.research.google.com/github/Shota-8811396/output/blob/main/Python%E3%81%A7%E5%AE%9F%E8%A3%85%EF%BC%91.ipynb\" target=\"_parent\"><img src=\"https://colab.research.google.com/assets/colab-badge.svg\" alt=\"Open In Colab\"/></a>"
      ]
    },
    {
      "cell_type": "code",
      "execution_count": null,
      "metadata": {
        "id": "c_uDHG6Fh0sV"
      },
      "outputs": [],
      "source": [
        "import numpy as np"
      ]
    },
    {
      "cell_type": "markdown",
      "source": [
        "|$n$|$x_{n}$|$t_{n}$|\n",
        "|:--|:--|:--|\n",
        "|1|20|60000|\n",
        "|2|40|115000|\n",
        "|3|60|155000|"
      ],
      "metadata": {
        "id": "mWT0TY36jaeC"
      }
    },
    {
      "cell_type": "code",
      "source": [
        "x = np.array([20,40,60])\n",
        "x"
      ],
      "metadata": {
        "colab": {
          "base_uri": "https://localhost:8080/"
        },
        "id": "n4u6i3wYks4g",
        "outputId": "e1186871-6f2e-45c1-9dad-b4d00bcfc072"
      },
      "execution_count": null,
      "outputs": [
        {
          "output_type": "execute_result",
          "data": {
            "text/plain": [
              "array([20, 40, 60])"
            ]
          },
          "metadata": {},
          "execution_count": 3
        }
      ]
    },
    {
      "cell_type": "code",
      "source": [
        "type(x)"
      ],
      "metadata": {
        "colab": {
          "base_uri": "https://localhost:8080/"
        },
        "id": "-3nSvQ2Jk99j",
        "outputId": "b685175b-bd6a-4794-ac01-ba94a2f2c2dd"
      },
      "execution_count": null,
      "outputs": [
        {
          "output_type": "execute_result",
          "data": {
            "text/plain": [
              "numpy.ndarray"
            ]
          },
          "metadata": {},
          "execution_count": 4
        }
      ]
    },
    {
      "cell_type": "code",
      "source": [
        "t = np.array([60000,115000,155000])\n",
        "t"
      ],
      "metadata": {
        "colab": {
          "base_uri": "https://localhost:8080/"
        },
        "id": "vJh9ZT4rlPg7",
        "outputId": "f3794c02-42cd-424d-86b7-b2924de08a96"
      },
      "execution_count": null,
      "outputs": [
        {
          "output_type": "execute_result",
          "data": {
            "text/plain": [
              "array([ 60000, 115000, 155000])"
            ]
          },
          "metadata": {},
          "execution_count": 5
        }
      ]
    },
    {
      "cell_type": "code",
      "source": [
        "x_mean = x.mean()\n",
        "x_mean"
      ],
      "metadata": {
        "colab": {
          "base_uri": "https://localhost:8080/"
        },
        "id": "rYAcWlIsldWl",
        "outputId": "ecc682a1-6917-4de4-8aca-a07722c0590f"
      },
      "execution_count": null,
      "outputs": [
        {
          "output_type": "execute_result",
          "data": {
            "text/plain": [
              "40.0"
            ]
          },
          "metadata": {},
          "execution_count": 8
        }
      ]
    },
    {
      "cell_type": "code",
      "source": [
        "t_mean = t.mean()\n",
        "t_mean"
      ],
      "metadata": {
        "colab": {
          "base_uri": "https://localhost:8080/"
        },
        "id": "-CtgvkLdlhPx",
        "outputId": "9184754e-59ca-4efa-884a-b7e92182d706"
      },
      "execution_count": null,
      "outputs": [
        {
          "output_type": "execute_result",
          "data": {
            "text/plain": [
              "110000.0"
            ]
          },
          "metadata": {},
          "execution_count": 10
        }
      ]
    },
    {
      "cell_type": "code",
      "source": [
        "# xの中心化\n",
        "xc = x - x_mean\n",
        "xc"
      ],
      "metadata": {
        "colab": {
          "base_uri": "https://localhost:8080/"
        },
        "id": "DLMEP6PFlmgv",
        "outputId": "44a4ccbc-c698-495b-d26c-2521a4647bd1"
      },
      "execution_count": null,
      "outputs": [
        {
          "output_type": "execute_result",
          "data": {
            "text/plain": [
              "array([-20.,   0.,  20.])"
            ]
          },
          "metadata": {},
          "execution_count": 15
        }
      ]
    },
    {
      "cell_type": "code",
      "source": [
        "# tの中心化\n",
        "tc = t - t_mean\n",
        "tc"
      ],
      "metadata": {
        "colab": {
          "base_uri": "https://localhost:8080/"
        },
        "id": "6hWBjVItmJeC",
        "outputId": "9c28585d-550c-4d08-8bc3-325f6fdc6817"
      },
      "execution_count": null,
      "outputs": [
        {
          "output_type": "execute_result",
          "data": {
            "text/plain": [
              "array([-50000.,   5000.,  45000.])"
            ]
          },
          "metadata": {},
          "execution_count": 16
        }
      ]
    },
    {
      "cell_type": "markdown",
      "source": [
        "最適なパラメータ\n",
        "\n",
        "$$\n",
        "w = \\dfrac{\\sum_{n=1}^{N} x_{n}t_{n}}{\\sum_{n=1}^{N} x_{n}^{2}}\n",
        "$$\n",
        "\n",
        "を求める。\n",
        "\n",
        "まずは分子\n",
        "\n",
        "$$\n",
        "\\sum_{n=1}^{N} x_{n}t_{n}\n",
        "$$\n",
        "\n",
        "を求める。"
      ],
      "metadata": {
        "id": "HZnz8gHjmMaw"
      }
    },
    {
      "cell_type": "code",
      "source": [
        "# 要素ごとの積\n",
        "xc * tc"
      ],
      "metadata": {
        "colab": {
          "base_uri": "https://localhost:8080/"
        },
        "id": "axGQr2Dyo4J-",
        "outputId": "a34d5518-5dad-459c-c2d9-7429199b08cf"
      },
      "execution_count": null,
      "outputs": [
        {
          "output_type": "execute_result",
          "data": {
            "text/plain": [
              "array([1000000.,       0.,  900000.])"
            ]
          },
          "metadata": {},
          "execution_count": 18
        }
      ]
    },
    {
      "cell_type": "code",
      "source": [
        "# 要素ごとの積の総和\n",
        "(xc * tc).sum()"
      ],
      "metadata": {
        "colab": {
          "base_uri": "https://localhost:8080/"
        },
        "id": "M12AqEnzpRk3",
        "outputId": "2625afeb-20c2-4950-fb19-965b10b75068"
      },
      "execution_count": null,
      "outputs": [
        {
          "output_type": "execute_result",
          "data": {
            "text/plain": [
              "1900000.0"
            ]
          },
          "metadata": {},
          "execution_count": 19
        }
      ]
    },
    {
      "cell_type": "markdown",
      "source": [
        "分母\n",
        "\n",
        "$$\n",
        "\\sum_{n=1}^{N} x_{n}^{2}\n",
        "$$\n",
        "\n",
        "を求める。"
      ],
      "metadata": {
        "id": "CAP1K4sBpqgU"
      }
    },
    {
      "cell_type": "code",
      "source": [
        "xc * xc"
      ],
      "metadata": {
        "colab": {
          "base_uri": "https://localhost:8080/"
        },
        "id": "gidorxghqC-r",
        "outputId": "cfee8e7d-5dd4-4123-e080-8da542e6ea77"
      },
      "execution_count": null,
      "outputs": [
        {
          "output_type": "execute_result",
          "data": {
            "text/plain": [
              "array([400.,   0., 400.])"
            ]
          },
          "metadata": {},
          "execution_count": 20
        }
      ]
    },
    {
      "cell_type": "code",
      "source": [
        "(xc * xc).sum()"
      ],
      "metadata": {
        "colab": {
          "base_uri": "https://localhost:8080/"
        },
        "id": "8KWpnK0vqHzZ",
        "outputId": "faef4f89-bb06-40c3-c7a0-10daffa2ac8a"
      },
      "execution_count": null,
      "outputs": [
        {
          "output_type": "execute_result",
          "data": {
            "text/plain": [
              "800.0"
            ]
          },
          "metadata": {},
          "execution_count": 22
        }
      ]
    },
    {
      "cell_type": "code",
      "source": [
        "# 最適なパラメータ\n",
        "w = (xc * tc).sum() / (xc * xc).sum()\n",
        "w"
      ],
      "metadata": {
        "colab": {
          "base_uri": "https://localhost:8080/"
        },
        "id": "KDlxcNJSqNOV",
        "outputId": "28ef3094-78e3-4d8e-c380-ea53e68807b5"
      },
      "execution_count": null,
      "outputs": [
        {
          "output_type": "execute_result",
          "data": {
            "text/plain": [
              "2375.0"
            ]
          },
          "metadata": {},
          "execution_count": 24
        }
      ]
    },
    {
      "cell_type": "markdown",
      "source": [
        "このパラメータを用いて、$x=50$の場合の予測値$y$を求める。\n",
        "\n",
        "$$\n",
        "\\begin{aligned}\n",
        "y_{c} &= w x_{c} \\\\\n",
        "y - \\bar{t} &= w (x-\\bar{x}) \\\\\n",
        "y &= w (x - \\bar{x}) + \\bar{t}\n",
        "\\end{aligned}\n",
        "$$"
      ],
      "metadata": {
        "id": "DkqqCRynqn0r"
      }
    },
    {
      "cell_type": "code",
      "source": [
        "x = 50"
      ],
      "metadata": {
        "id": "cyRfOTmHs1EU"
      },
      "execution_count": null,
      "outputs": []
    },
    {
      "cell_type": "code",
      "source": [
        "y = w * (x - x_mean) + t_mean\n",
        "y"
      ],
      "metadata": {
        "colab": {
          "base_uri": "https://localhost:8080/"
        },
        "id": "QrY084U8s36W",
        "outputId": "4770fb2a-a850-44b5-9069-1a2e1169628a"
      },
      "execution_count": null,
      "outputs": [
        {
          "output_type": "execute_result",
          "data": {
            "text/plain": [
              "133750.0"
            ]
          },
          "metadata": {},
          "execution_count": 26
        }
      ]
    },
    {
      "cell_type": "code",
      "source": [],
      "metadata": {
        "id": "0FAMjwa5tAJ1"
      },
      "execution_count": null,
      "outputs": []
    }
  ]
}