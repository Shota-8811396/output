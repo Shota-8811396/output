{
  "nbformat": 4,
  "nbformat_minor": 0,
  "metadata": {
    "colab": {
      "provenance": [],
      "authorship_tag": "ABX9TyNJBjvl7Hy+pMQDy6EXvZV8",
      "include_colab_link": true
    },
    "kernelspec": {
      "name": "python3",
      "display_name": "Python 3"
    },
    "language_info": {
      "name": "python"
    }
  },
  "cells": [
    {
      "cell_type": "markdown",
      "metadata": {
        "id": "view-in-github",
        "colab_type": "text"
      },
      "source": [
        "<a href=\"https://colab.research.google.com/github/Shota-8811396/output/blob/output/%E6%95%B0%E5%AD%A6%E3%81%AE%E5%9F%BA%E7%A4%8E%E2%91%A1.ipynb\" target=\"_parent\"><img src=\"https://colab.research.google.com/assets/colab-badge.svg\" alt=\"Open In Colab\"/></a>"
      ]
    },
    {
      "cell_type": "markdown",
      "source": [
        "重回帰分析によってもとまる最適なパラメータ\n",
        "\n",
        "$$\n",
        "{\\bf w} = ({\\bf X}^{\\rm T}{\\bf X})^{-1}{\\bf X}^{\\rm T}{\\bf t}\n",
        "$$"
      ],
      "metadata": {
        "id": "kEoUzN5nslw0"
      }
    },
    {
      "cell_type": "code",
      "source": [
        "import numpy as np"
      ],
      "metadata": {
        "id": "NuGe1Jh3wBYq"
      },
      "execution_count": 1,
      "outputs": []
    },
    {
      "cell_type": "code",
      "source": [
        "np.__version__"
      ],
      "metadata": {
        "colab": {
          "base_uri": "https://localhost:8080/",
          "height": 35
        },
        "id": "OIadnUHDwLR5",
        "outputId": "6e8cb61f-16ac-4657-e904-dd9a1cf445d4"
      },
      "execution_count": 2,
      "outputs": [
        {
          "output_type": "execute_result",
          "data": {
            "text/plain": [
              "'1.22.4'"
            ],
            "application/vnd.google.colaboratory.intrinsic+json": {
              "type": "string"
            }
          },
          "metadata": {},
          "execution_count": 2
        }
      ]
    },
    {
      "cell_type": "markdown",
      "source": [
        "- ベクトルの定義\n",
        "- 行列の定義\n",
        "- 転置\n",
        "- 行列積\n",
        "- 逆行列"
      ],
      "metadata": {
        "id": "NyfnkARjwSjS"
      }
    },
    {
      "cell_type": "markdown",
      "source": [
        "$$\n",
        "{\\bf X} =\n",
        "\\begin{bmatrix}\n",
        "1 & 3 \\\\\n",
        "2 & 4 \\\\\n",
        "5 & 6 \n",
        "\\end{bmatrix}, \\\n",
        "{\\bf t} =\n",
        "\\begin{bmatrix}\n",
        "1 \\\\ 2 \\\\ 7\n",
        "\\end {bmatrix}\n",
        "$$\n",
        "\n",
        "上記のデータセットは以下の関係性から生成\n",
        "\n",
        "$$\n",
        "y = 3x_{1} - 2x_{2} + 4\n",
        "$$\n",
        "\n",
        "理想的にはパラメータが以下のようにもとまると望ましい。\n",
        "\n",
        "$$\n",
        "w_{1} = 3, \\ w_{2}=-2, \\ b=4\n",
        "$$"
      ],
      "metadata": {
        "id": "Fo_gLNAHwmz_"
      }
    },
    {
      "cell_type": "code",
      "source": [
        "# ベクトルの定義\n",
        "t = np.array([[1], [2],[7]])\n",
        "print(t)"
      ],
      "metadata": {
        "colab": {
          "base_uri": "https://localhost:8080/"
        },
        "id": "8BEUOjLuxuWw",
        "outputId": "ae172c90-1065-49cf-ef58-d13ae0cdb789"
      },
      "execution_count": 3,
      "outputs": [
        {
          "output_type": "stream",
          "name": "stdout",
          "text": [
            "[[1]\n",
            " [2]\n",
            " [7]]\n"
          ]
        }
      ]
    },
    {
      "cell_type": "code",
      "source": [
        "# 行列の定義\n",
        "X = np.array([\n",
        "    [1, 3],\n",
        "    [2, 4],\n",
        "    [5, 6]\n",
        "])\n",
        "\n",
        "print(X)"
      ],
      "metadata": {
        "colab": {
          "base_uri": "https://localhost:8080/"
        },
        "id": "so64lyMzzbR9",
        "outputId": "0505a006-b421-481b-ad60-7f8350e12f3d"
      },
      "execution_count": 4,
      "outputs": [
        {
          "output_type": "stream",
          "name": "stdout",
          "text": [
            "[[1 3]\n",
            " [2 4]\n",
            " [5 6]]\n"
          ]
        }
      ]
    },
    {
      "cell_type": "code",
      "source": [
        "# ベクトル t のサイズを確認\n",
        "t.shape"
      ],
      "metadata": {
        "colab": {
          "base_uri": "https://localhost:8080/"
        },
        "id": "784MlgDZ0MoH",
        "outputId": "6c1edbb3-c741-43c9-f073-078e57706116"
      },
      "execution_count": 5,
      "outputs": [
        {
          "output_type": "execute_result",
          "data": {
            "text/plain": [
              "(3, 1)"
            ]
          },
          "metadata": {},
          "execution_count": 5
        }
      ]
    },
    {
      "cell_type": "code",
      "source": [
        "# 行列 X のサイズを確認\n",
        "X.shape"
      ],
      "metadata": {
        "colab": {
          "base_uri": "https://localhost:8080/"
        },
        "id": "RPf2kY6c0Wdb",
        "outputId": "c538a0b5-c450-424c-af0a-1a2585ff3029"
      },
      "execution_count": 6,
      "outputs": [
        {
          "output_type": "execute_result",
          "data": {
            "text/plain": [
              "(3, 2)"
            ]
          },
          "metadata": {},
          "execution_count": 6
        }
      ]
    },
    {
      "cell_type": "code",
      "source": [
        "# 全ての要素が 1 のベクトル\n",
        "ones = np.ones((3, 1))\n",
        "print(ones)"
      ],
      "metadata": {
        "colab": {
          "base_uri": "https://localhost:8080/"
        },
        "id": "EG_gQXMG0g5y",
        "outputId": "c3ae82da-c9e9-4f6c-e6eb-5158075b16c3"
      },
      "execution_count": 7,
      "outputs": [
        {
          "output_type": "stream",
          "name": "stdout",
          "text": [
            "[[1.]\n",
            " [1.]\n",
            " [1.]]\n"
          ]
        }
      ]
    },
    {
      "cell_type": "code",
      "source": [
        "# 要素が全て １ のベクトルと行列 X の結合\n",
        "X = np.concatenate((ones, X), axis=1)\n",
        "print(X)"
      ],
      "metadata": {
        "colab": {
          "base_uri": "https://localhost:8080/"
        },
        "id": "JLtgPrLV0u_6",
        "outputId": "db81a7cf-0e07-4b95-d76b-c78e718e784f"
      },
      "execution_count": 8,
      "outputs": [
        {
          "output_type": "stream",
          "name": "stdout",
          "text": [
            "[[1. 1. 3.]\n",
            " [1. 2. 4.]\n",
            " [1. 5. 6.]]\n"
          ]
        }
      ]
    },
    {
      "cell_type": "code",
      "source": [
        "# 転置\n",
        "print(X.T)"
      ],
      "metadata": {
        "colab": {
          "base_uri": "https://localhost:8080/"
        },
        "id": "5Ocms2KV1V5a",
        "outputId": "ac364211-f8a7-43a2-a099-747bc684a8ee"
      },
      "execution_count": 9,
      "outputs": [
        {
          "output_type": "stream",
          "name": "stdout",
          "text": [
            "[[1. 1. 1.]\n",
            " [1. 2. 5.]\n",
            " [3. 4. 6.]]\n"
          ]
        }
      ]
    },
    {
      "cell_type": "markdown",
      "source": [
        "$$\n",
        "{\\bf X}^{\\rm T}{\\bf X}\n",
        "$$"
      ],
      "metadata": {
        "id": "3OtM0w2D1uSF"
      }
    },
    {
      "cell_type": "code",
      "source": [
        "# 行列積\n",
        "XX = np.dot(X.T, X)\n",
        "print(XX)"
      ],
      "metadata": {
        "colab": {
          "base_uri": "https://localhost:8080/"
        },
        "id": "3t9-T01C2KWj",
        "outputId": "d246b090-c683-4085-a657-4e7ee8d1a012"
      },
      "execution_count": 10,
      "outputs": [
        {
          "output_type": "stream",
          "name": "stdout",
          "text": [
            "[[ 3.  8. 13.]\n",
            " [ 8. 30. 41.]\n",
            " [13. 41. 61.]]\n"
          ]
        }
      ]
    },
    {
      "cell_type": "markdown",
      "source": [
        "$$\n",
        "({\\bf X}^{\\rm T}{\\bf X})^{-1}\n",
        "$$"
      ],
      "metadata": {
        "id": "3QzLs5UO2gMG"
      }
    },
    {
      "cell_type": "code",
      "source": [
        "# 逆行列\n",
        "XX_inv = np.linalg.inv(XX)\n",
        "print(XX_inv)"
      ],
      "metadata": {
        "colab": {
          "base_uri": "https://localhost:8080/"
        },
        "id": "Hf4cv1ZM20Tf",
        "outputId": "ba0e5dd3-084c-4cf6-d824-06a7a0a47f29"
      },
      "execution_count": 11,
      "outputs": [
        {
          "output_type": "stream",
          "name": "stdout",
          "text": [
            "[[149.  45. -62.]\n",
            " [ 45.  14. -19.]\n",
            " [-62. -19.  26.]]\n"
          ]
        }
      ]
    },
    {
      "cell_type": "markdown",
      "source": [
        "$$\n",
        "{\\bf w} = ({\\bf X}^{\\rm T}{\\bf X})^{-1}{\\bf X}^{\\rm T}{\\bf t}\n",
        "$$"
      ],
      "metadata": {
        "id": "cwjZBOv73I2f"
      }
    },
    {
      "cell_type": "code",
      "source": [
        "# Xtの計算\n",
        "Xt = np.dot(X.T, t)\n",
        "print(Xt)"
      ],
      "metadata": {
        "colab": {
          "base_uri": "https://localhost:8080/"
        },
        "id": "wYgm5X0J3UF1",
        "outputId": "10bc7be1-7f14-420d-ff03-e7fa77d081da"
      },
      "execution_count": 12,
      "outputs": [
        {
          "output_type": "stream",
          "name": "stdout",
          "text": [
            "[[10.]\n",
            " [40.]\n",
            " [53.]]\n"
          ]
        }
      ]
    },
    {
      "cell_type": "code",
      "source": [
        "# パラメータwを求める\n",
        "w = np.dot(XX_inv, Xt)\n",
        "print(w)"
      ],
      "metadata": {
        "colab": {
          "base_uri": "https://localhost:8080/"
        },
        "id": "HOpT2San423c",
        "outputId": "4f50b3ff-8b15-4bf7-f509-2d7d303cb54f"
      },
      "execution_count": 14,
      "outputs": [
        {
          "output_type": "stream",
          "name": "stdout",
          "text": [
            "[[ 4.]\n",
            " [ 3.]\n",
            " [-2.]]\n"
          ]
        }
      ]
    },
    {
      "cell_type": "code",
      "source": [],
      "metadata": {
        "id": "CB-_LPDv5GvJ"
      },
      "execution_count": 13,
      "outputs": []
    }
  ]
}