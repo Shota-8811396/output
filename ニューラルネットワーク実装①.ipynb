{
  "cells": [
    {
      "cell_type": "markdown",
      "metadata": {
        "id": "view-in-github",
        "colab_type": "text"
      },
      "source": [
        "<a href=\"https://colab.research.google.com/github/Shota-8811396/output/blob/output/%E3%83%8B%E3%83%A5%E3%83%BC%E3%83%A9%E3%83%AB%E3%83%8D%E3%83%83%E3%83%88%E3%83%AF%E3%83%BC%E3%82%AF%E5%AE%9F%E8%A3%85%E2%91%A0.ipynb\" target=\"_parent\"><img src=\"https://colab.research.google.com/assets/colab-badge.svg\" alt=\"Open In Colab\"/></a>"
      ]
    },
    {
      "cell_type": "markdown",
      "metadata": {
        "id": "ISgwtJV5bu1F"
      },
      "source": [
        "### ネットワークの定義と順伝播の計算"
      ]
    },
    {
      "cell_type": "markdown",
      "metadata": {
        "id": "Z2bZIo1EcVT8"
      },
      "source": [
        "#### 1.環境構築"
      ]
    },
    {
      "cell_type": "code",
      "execution_count": null,
      "metadata": {
        "id": "k0s7Btuhdvyk"
      },
      "outputs": [],
      "source": [
        "import torch"
      ]
    },
    {
      "cell_type": "code",
      "execution_count": null,
      "metadata": {
        "colab": {
          "base_uri": "https://localhost:8080/",
          "height": 35
        },
        "id": "HVrxgEtKd-iH",
        "outputId": "f2671c35-a698-4374-e009-9af540593333"
      },
      "outputs": [
        {
          "data": {
            "application/vnd.google.colaboratory.intrinsic+json": {
              "type": "string"
            },
            "text/plain": [
              "'2.0.1+cu118'"
            ]
          },
          "execution_count": 2,
          "metadata": {},
          "output_type": "execute_result"
        }
      ],
      "source": [
        "torch.__version__"
      ]
    },
    {
      "cell_type": "markdown",
      "metadata": {
        "id": "fDEyTe4QeC09"
      },
      "source": [
        "#### 2.ネットワークの定義"
      ]
    },
    {
      "cell_type": "code",
      "execution_count": null,
      "metadata": {
        "id": "-o_Q5E0Veee7"
      },
      "outputs": [],
      "source": [
        "import torch.nn as nn"
      ]
    },
    {
      "cell_type": "code",
      "execution_count": null,
      "metadata": {
        "colab": {
          "base_uri": "https://localhost:8080/"
        },
        "id": "a2hn32hWesTy",
        "outputId": "0f2e70e1-f4aa-406a-b51d-7257a471c134"
      },
      "outputs": [
        {
          "data": {
            "text/plain": [
              "Linear(in_features=3, out_features=2, bias=True)"
            ]
          },
          "execution_count": 4,
          "metadata": {},
          "output_type": "execute_result"
        }
      ],
      "source": [
        "# 3ノード　→ ２ノードの全結合（fully-connected layer)\n",
        "fc = nn.Linear(3, 2)\n",
        "fc"
      ]
    },
    {
      "cell_type": "code",
      "execution_count": null,
      "metadata": {
        "colab": {
          "base_uri": "https://localhost:8080/"
        },
        "id": "SCI7qhPlfHAu",
        "outputId": "8ed79b25-1aa1-42a1-941d-e921b21030d5"
      },
      "outputs": [
        {
          "data": {
            "text/plain": [
              "Parameter containing:\n",
              "tensor([[ 0.1602, -0.1098, -0.0108],\n",
              "        [-0.1178, -0.4985, -0.1584]], requires_grad=True)"
            ]
          },
          "execution_count": 5,
          "metadata": {},
          "output_type": "execute_result"
        }
      ],
      "source": [
        "# 重み\n",
        "fc.weight"
      ]
    },
    {
      "cell_type": "code",
      "execution_count": null,
      "metadata": {
        "colab": {
          "base_uri": "https://localhost:8080/"
        },
        "id": "sUIWvtDLfiy9",
        "outputId": "8a740d44-a7af-4fe5-b108-6ddcc17e953c"
      },
      "outputs": [
        {
          "data": {
            "text/plain": [
              "Parameter containing:\n",
              "tensor([-0.0989, -0.5710], requires_grad=True)"
            ]
          },
          "execution_count": 6,
          "metadata": {},
          "output_type": "execute_result"
        }
      ],
      "source": [
        "# バイアス\n",
        "fc.bias"
      ]
    },
    {
      "cell_type": "code",
      "execution_count": null,
      "metadata": {
        "colab": {
          "base_uri": "https://localhost:8080/"
        },
        "id": "EweHerH3fo0r",
        "outputId": "94ec4e1d-15ab-4d51-fc86-bb657869176f"
      },
      "outputs": [
        {
          "data": {
            "text/plain": [
              "<torch._C.Generator at 0x7fd49b664d70>"
            ]
          },
          "execution_count": 7,
          "metadata": {},
          "output_type": "execute_result"
        }
      ],
      "source": [
        "# 乱数のシードを固定\n",
        "torch.manual_seed(0)"
      ]
    },
    {
      "cell_type": "code",
      "execution_count": null,
      "metadata": {
        "id": "oxLKXM8Wf8F-"
      },
      "outputs": [],
      "source": [
        "fc = nn.Linear(3,2)"
      ]
    },
    {
      "cell_type": "code",
      "execution_count": null,
      "metadata": {
        "colab": {
          "base_uri": "https://localhost:8080/"
        },
        "id": "R5XE0pPUgBuq",
        "outputId": "9603c195-e8da-4e40-cc08-2bbd3bb9a2fe"
      },
      "outputs": [
        {
          "data": {
            "text/plain": [
              "Parameter containing:\n",
              "tensor([[-0.0043,  0.3097, -0.4752],\n",
              "        [-0.4249, -0.2224,  0.1548]], requires_grad=True)"
            ]
          },
          "execution_count": 9,
          "metadata": {},
          "output_type": "execute_result"
        }
      ],
      "source": [
        "fc.weight"
      ]
    },
    {
      "cell_type": "code",
      "execution_count": null,
      "metadata": {
        "colab": {
          "base_uri": "https://localhost:8080/"
        },
        "id": "V2jS1tVIgEYg",
        "outputId": "45900434-c2fc-474f-e334-de0274e3cf82"
      },
      "outputs": [
        {
          "data": {
            "text/plain": [
              "Parameter containing:\n",
              "tensor([-0.0114,  0.4578], requires_grad=True)"
            ]
          },
          "execution_count": 10,
          "metadata": {},
          "output_type": "execute_result"
        }
      ],
      "source": [
        "fc.bias"
      ]
    },
    {
      "cell_type": "markdown",
      "metadata": {
        "id": "Xzn7meyvgHNk"
      },
      "source": [
        "#### 3.線形変換"
      ]
    },
    {
      "cell_type": "code",
      "execution_count": null,
      "metadata": {
        "colab": {
          "base_uri": "https://localhost:8080/"
        },
        "id": "FaGG0mbFgTzY",
        "outputId": "b38400e0-705d-4f03-ac4f-470363ff2605"
      },
      "outputs": [
        {
          "data": {
            "text/plain": [
              "Linear(in_features=3, out_features=2, bias=True)"
            ]
          },
          "execution_count": 11,
          "metadata": {},
          "output_type": "execute_result"
        }
      ],
      "source": [
        "fc"
      ]
    },
    {
      "cell_type": "code",
      "execution_count": null,
      "metadata": {
        "colab": {
          "base_uri": "https://localhost:8080/"
        },
        "id": "Mi6XxbfCgVE5",
        "outputId": "2c51a355-66cd-49a5-c9de-aeb2eadd31d2"
      },
      "outputs": [
        {
          "data": {
            "text/plain": [
              "tensor([1., 2., 3.])"
            ]
          },
          "execution_count": 12,
          "metadata": {},
          "output_type": "execute_result"
        }
      ],
      "source": [
        "x = torch.Tensor([1., 2., 3.])\n",
        "x"
      ]
    },
    {
      "cell_type": "code",
      "execution_count": null,
      "metadata": {
        "colab": {
          "base_uri": "https://localhost:8080/"
        },
        "id": "wKQU5kPaghGI",
        "outputId": "de278474-fac0-487f-cb99-c4580bb39fb5"
      },
      "outputs": [
        {
          "data": {
            "text/plain": [
              "torch.Tensor"
            ]
          },
          "execution_count": 13,
          "metadata": {},
          "output_type": "execute_result"
        }
      ],
      "source": [
        "type(x)"
      ]
    },
    {
      "cell_type": "code",
      "execution_count": null,
      "metadata": {
        "colab": {
          "base_uri": "https://localhost:8080/"
        },
        "id": "Cq4L_ChOgmlr",
        "outputId": "50e2d825-3ca0-457a-cfcf-0e026eed01ad"
      },
      "outputs": [
        {
          "data": {
            "text/plain": [
              "torch.float32"
            ]
          },
          "execution_count": 14,
          "metadata": {},
          "output_type": "execute_result"
        }
      ],
      "source": [
        "x.dtype"
      ]
    },
    {
      "cell_type": "code",
      "execution_count": null,
      "metadata": {
        "colab": {
          "base_uri": "https://localhost:8080/"
        },
        "id": "BCLOjcrngpxR",
        "outputId": "d009e7f8-b78c-44e2-e45d-bdcd017f1290"
      },
      "outputs": [
        {
          "data": {
            "text/plain": [
              "torch.Size([3])"
            ]
          },
          "execution_count": 15,
          "metadata": {},
          "output_type": "execute_result"
        }
      ],
      "source": [
        "x.shape"
      ]
    },
    {
      "cell_type": "code",
      "execution_count": null,
      "metadata": {
        "colab": {
          "base_uri": "https://localhost:8080/"
        },
        "id": "_f3KeLHlgrZA",
        "outputId": "c4ddf06a-78f9-41f9-fe76-3b9f1aed1c5a"
      },
      "outputs": [
        {
          "data": {
            "text/plain": [
              "tensor([-0.8219,  0.0526], grad_fn=<AddBackward0>)"
            ]
          },
          "execution_count": 18,
          "metadata": {},
          "output_type": "execute_result"
        }
      ],
      "source": [
        "# 線形変換\n",
        "# fc.__call__(x) ←これでも書ける\n",
        "u = fc(x)\n",
        "u"
      ]
    },
    {
      "cell_type": "markdown",
      "metadata": {
        "id": "AbHTMedrg3xI"
      },
      "source": [
        "#### 4.非線形変換"
      ]
    },
    {
      "cell_type": "code",
      "execution_count": null,
      "metadata": {
        "id": "VAVoqdbDhYh4"
      },
      "outputs": [],
      "source": [
        "import torch.nn.functional as F"
      ]
    },
    {
      "cell_type": "code",
      "execution_count": null,
      "metadata": {
        "colab": {
          "base_uri": "https://localhost:8080/"
        },
        "id": "EATPQuvohiHn",
        "outputId": "1f92a271-fbb6-4f63-a1e0-2c4bbe70e023"
      },
      "outputs": [
        {
          "data": {
            "text/plain": [
              "tensor([0.0000, 0.0526], grad_fn=<ReluBackward0>)"
            ]
          },
          "execution_count": 21,
          "metadata": {},
          "output_type": "execute_result"
        }
      ],
      "source": [
        "h = F.relu(u)\n",
        "h"
      ]
    },
    {
      "cell_type": "markdown",
      "metadata": {
        "id": "288YQxt7hlMK"
      },
      "source": [
        "#### 5.目的関数\n",
        "\n",
        "目的関数 = 損失関数 + 正則化項"
      ]
    },
    {
      "cell_type": "code",
      "execution_count": null,
      "metadata": {
        "colab": {
          "base_uri": "https://localhost:8080/"
        },
        "id": "s6yVJtVAhuip",
        "outputId": "3ed4a5d2-a05f-46a6-f355-e2885b55930e"
      },
      "outputs": [
        {
          "data": {
            "text/plain": [
              "tensor([[1.],\n",
              "        [3.]])"
            ]
          },
          "execution_count": 22,
          "metadata": {},
          "output_type": "execute_result"
        }
      ],
      "source": [
        "# 目標値\n",
        "t = torch.Tensor([[1], [3]])\n",
        "t"
      ]
    },
    {
      "cell_type": "code",
      "execution_count": null,
      "metadata": {
        "colab": {
          "base_uri": "https://localhost:8080/"
        },
        "id": "8kUzv8-AiZgg",
        "outputId": "a4cafd2b-e9b9-4ed3-d38b-af11b16e9448"
      },
      "outputs": [
        {
          "data": {
            "text/plain": [
              "tensor([[2.],\n",
              "        [4.]])"
            ]
          },
          "execution_count": 24,
          "metadata": {},
          "output_type": "execute_result"
        }
      ],
      "source": [
        "# 予測値\n",
        "y = torch.Tensor([[2], [4]])\n",
        "y"
      ]
    },
    {
      "cell_type": "code",
      "execution_count": null,
      "metadata": {
        "colab": {
          "background_save": true
        },
        "id": "LR6xhesLikb1",
        "outputId": "f46e8034-885d-45a4-dfef-409632ef55ff"
      },
      "outputs": [
        {
          "data": {
            "text/plain": [
              "tensor(1.)"
            ]
          },
          "execution_count": 26,
          "metadata": {},
          "output_type": "execute_result"
        }
      ],
      "source": [
        "# 平均二乗誤差\n",
        "F.mse_loss(y, t)"
      ]
    },
    {
      "cell_type": "markdown",
      "metadata": {
        "id": "NZHZ0q1VjHjv"
      },
      "source": [
        "#### 6. nn と F の使い分け\n",
        "\n",
        "- nn : torch.nn → パラメータを持つ場合\n",
        "- F : torch.nn.functional → パラメータを持たない場合"
      ]
    },
    {
      "cell_type": "code",
      "execution_count": null,
      "metadata": {
        "id": "rovY4wSMp0GJ"
      },
      "outputs": [],
      "source": []
    }
  ],
  "metadata": {
    "colab": {
      "provenance": [],
      "authorship_tag": "ABX9TyOOqBtFfoP4jFirRpCKpgfZ",
      "include_colab_link": true
    },
    "gpuClass": "standard",
    "kernelspec": {
      "display_name": "Python 3",
      "name": "python3"
    },
    "language_info": {
      "name": "python"
    }
  },
  "nbformat": 4,
  "nbformat_minor": 0
}