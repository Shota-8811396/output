{
  "nbformat": 4,
  "nbformat_minor": 0,
  "metadata": {
    "colab": {
      "provenance": [],
      "gpuType": "T4",
      "authorship_tag": "ABX9TyPMPiZhW9WKUq+pcZZUpgF/",
      "include_colab_link": true
    },
    "kernelspec": {
      "name": "python3",
      "display_name": "Python 3"
    },
    "language_info": {
      "name": "python"
    },
    "gpuClass": "standard",
    "accelerator": "GPU"
  },
  "cells": [
    {
      "cell_type": "markdown",
      "metadata": {
        "id": "view-in-github",
        "colab_type": "text"
      },
      "source": [
        "<a href=\"https://colab.research.google.com/github/Shota-8811396/output/blob/output/%E3%83%8B%E3%83%A5%E3%83%BC%E3%83%A9%E3%83%AB%E3%83%8D%E3%83%83%E3%83%88%E3%83%AF%E3%83%BC%E3%82%AF%E5%AE%9F%E8%A3%85%E2%91%A2.ipynb\" target=\"_parent\"><img src=\"https://colab.research.google.com/assets/colab-badge.svg\" alt=\"Open In Colab\"/></a>"
      ]
    },
    {
      "cell_type": "markdown",
      "source": [
        "### ネットワークの訓練"
      ],
      "metadata": {
        "id": "X-NR-OF7L8I6"
      }
    },
    {
      "cell_type": "markdown",
      "source": [
        "#### 1.データセットの準備"
      ],
      "metadata": {
        "id": "z9q_C8_2MIB7"
      }
    },
    {
      "cell_type": "code",
      "source": [
        "import torch\n",
        "import torch.nn as nn\n",
        "import torch.nn.functional as F\n",
        "torch.__version__"
      ],
      "metadata": {
        "colab": {
          "base_uri": "https://localhost:8080/",
          "height": 35
        },
        "id": "jMhRQjVxMYfZ",
        "outputId": "47ae2d0f-df03-43d8-ff71-6acf080da1aa"
      },
      "execution_count": 1,
      "outputs": [
        {
          "output_type": "execute_result",
          "data": {
            "text/plain": [
              "'2.0.1+cu118'"
            ],
            "application/vnd.google.colaboratory.intrinsic+json": {
              "type": "string"
            }
          },
          "metadata": {},
          "execution_count": 1
        }
      ]
    },
    {
      "cell_type": "code",
      "source": [
        "# データセットの読み込み\n",
        "from sklearn.datasets import load_breast_cancer\n",
        "breast_cancer = load_breast_cancer()\n",
        "x = breast_cancer['data']\n",
        "t = breast_cancer['target']"
      ],
      "metadata": {
        "id": "iszq3ZBbMznw"
      },
      "execution_count": 2,
      "outputs": []
    },
    {
      "cell_type": "code",
      "source": [
        "x.shape, t.shape"
      ],
      "metadata": {
        "colab": {
          "base_uri": "https://localhost:8080/"
        },
        "id": "lr1z-DFaNpWp",
        "outputId": "f03e586f-c433-4b34-d7b8-65335c5a1a1f"
      },
      "execution_count": 3,
      "outputs": [
        {
          "output_type": "execute_result",
          "data": {
            "text/plain": [
              "((569, 30), (569,))"
            ]
          },
          "metadata": {},
          "execution_count": 3
        }
      ]
    },
    {
      "cell_type": "code",
      "source": [
        "# PyTorch の Tensor 型へ変換\n",
        "x = torch.tensor(x, dtype=torch.float32)\n",
        "t = torch.tensor(t, dtype=torch.int64)"
      ],
      "metadata": {
        "id": "jsO1thBKNeQ8"
      },
      "execution_count": 4,
      "outputs": []
    },
    {
      "cell_type": "code",
      "source": [
        "x.dtype, t.dtype"
      ],
      "metadata": {
        "colab": {
          "base_uri": "https://localhost:8080/"
        },
        "id": "pciYbj6VOFJm",
        "outputId": "b34a717f-60ff-4c8b-ba73-339fca4f559a"
      },
      "execution_count": 5,
      "outputs": [
        {
          "output_type": "execute_result",
          "data": {
            "text/plain": [
              "(torch.float32, torch.int64)"
            ]
          },
          "metadata": {},
          "execution_count": 5
        }
      ]
    },
    {
      "cell_type": "code",
      "source": [
        "type(x), type(t)"
      ],
      "metadata": {
        "colab": {
          "base_uri": "https://localhost:8080/"
        },
        "id": "wAgHYp3BOJ6y",
        "outputId": "58a8131e-38a1-42d4-fb78-0c512c88d3e2"
      },
      "execution_count": 6,
      "outputs": [
        {
          "output_type": "execute_result",
          "data": {
            "text/plain": [
              "(torch.Tensor, torch.Tensor)"
            ]
          },
          "metadata": {},
          "execution_count": 6
        }
      ]
    },
    {
      "cell_type": "code",
      "source": [
        "# 入力値と目標値をまとめる\n",
        "dataset = torch.utils.data.TensorDataset(x, t)\n",
        "dataset"
      ],
      "metadata": {
        "colab": {
          "base_uri": "https://localhost:8080/"
        },
        "id": "qkHOL5hOOToJ",
        "outputId": "b0fcf44a-1a11-4be1-95ac-1c4627067805"
      },
      "execution_count": 7,
      "outputs": [
        {
          "output_type": "execute_result",
          "data": {
            "text/plain": [
              "<torch.utils.data.dataset.TensorDataset at 0x7f7666ba4d30>"
            ]
          },
          "metadata": {},
          "execution_count": 7
        }
      ]
    },
    {
      "cell_type": "code",
      "source": [
        "# 各データセットのサンプル数を決定\n",
        "# trian : val : test = 60% : 20% : 20%\n",
        "n_train = int(len(dataset) * 0.6)\n",
        "n_val = int(len(dataset) * 0.2)\n",
        "n_test = len(dataset) - n_train - n_val\n",
        "\n",
        "# 乱数のシードを固定\n",
        "torch.manual_seed(0)\n",
        "\n",
        "# データセットの分割\n",
        "train, val, test = torch.utils.data.random_split(dataset, [n_train, n_val, n_test])"
      ],
      "metadata": {
        "id": "d_0U3SX_OiVr"
      },
      "execution_count": 8,
      "outputs": []
    },
    {
      "cell_type": "code",
      "source": [
        "len(train), len(val), len(test)"
      ],
      "metadata": {
        "colab": {
          "base_uri": "https://localhost:8080/"
        },
        "id": "0Oya_I1hO8A7",
        "outputId": "db7d1b39-2610-4bb1-9f29-23e7d2e40cbf"
      },
      "execution_count": 9,
      "outputs": [
        {
          "output_type": "execute_result",
          "data": {
            "text/plain": [
              "(341, 113, 115)"
            ]
          },
          "metadata": {},
          "execution_count": 9
        }
      ]
    },
    {
      "cell_type": "code",
      "source": [
        "# バッチサイズの定義\n",
        "batch_size = 10"
      ],
      "metadata": {
        "id": "7Jw-lxqWQgyj"
      },
      "execution_count": 10,
      "outputs": []
    },
    {
      "cell_type": "code",
      "source": [
        "# DataLoader を用意\n",
        "# shuffle はデフォルトで False のため、訓練データのみ True(毎回ランダムに入れ替える) に指定\n",
        "train_loader = torch.utils.data.DataLoader(train, batch_size, shuffle=True, drop_last=True)\n",
        "val_loader = torch.utils.data.DataLoader(val, batch_size)\n",
        "test_loader = torch.utils.data.DataLoader(test, batch_size)"
      ],
      "metadata": {
        "id": "ZbvHBICbQnkG"
      },
      "execution_count": 11,
      "outputs": []
    },
    {
      "cell_type": "markdown",
      "source": [
        "#### 2.ネットワークの設計\n",
        "今回の入力変数の数は M =30 で、これを悪性か良性の二値に分類する問題設定。\n",
        "\n",
        "二値分類のため、ロジスティック回帰のように出力変数の数を 1 としても良いが、今後の多値分類にも対応できるよう、出力変数の数を 2 としたネットワークを定義する。"
      ],
      "metadata": {
        "id": "0vjS2-ZPRf8-"
      }
    },
    {
      "cell_type": "markdown",
      "source": [
        "全結合層 fc1 と fc2 のノードの数を以下のように決定。\n",
        "\n",
        "- fc1: input: 30 => output: 10\n",
        "- fc2: input: 10 => output: 2\n",
        "\n",
        "順伝播の計算の流れは以下のように行う\n",
        "\n",
        "「線形変換 (fc1) => 非線形変換 (ReLU) => 線形変換 (fc2) => 非線形変換 (Softmax)」\n",
        "\n"
      ],
      "metadata": {
        "id": "NxpbceeGR_RG"
      }
    },
    {
      "cell_type": "code",
      "source": [
        "x, t = train[0]"
      ],
      "metadata": {
        "id": "xf5VQGj4Tq0Q"
      },
      "execution_count": 12,
      "outputs": []
    },
    {
      "cell_type": "code",
      "source": [
        "x.shape"
      ],
      "metadata": {
        "colab": {
          "base_uri": "https://localhost:8080/"
        },
        "id": "5xPhGYyAVdW7",
        "outputId": "62c5c7dd-50a5-4b98-daf7-446712cca813"
      },
      "execution_count": 13,
      "outputs": [
        {
          "output_type": "execute_result",
          "data": {
            "text/plain": [
              "torch.Size([30])"
            ]
          },
          "metadata": {},
          "execution_count": 13
        }
      ]
    },
    {
      "cell_type": "code",
      "source": [
        "x, t"
      ],
      "metadata": {
        "colab": {
          "base_uri": "https://localhost:8080/"
        },
        "id": "psLzZ04lxD5z",
        "outputId": "fb72b249-570d-4f60-c14b-6cf9c760ba30"
      },
      "execution_count": 14,
      "outputs": [
        {
          "output_type": "execute_result",
          "data": {
            "text/plain": [
              "(tensor([1.3050e+01, 1.9310e+01, 8.2610e+01, 5.2720e+02, 8.0600e-02, 3.7890e-02,\n",
              "         6.9200e-04, 4.1670e-03, 1.8190e-01, 5.5010e-02, 4.0400e-01, 1.2140e+00,\n",
              "         2.5950e+00, 3.2960e+01, 7.4910e-03, 8.5930e-03, 6.9200e-04, 4.1670e-03,\n",
              "         2.1900e-02, 2.9900e-03, 1.4230e+01, 2.2250e+01, 9.0240e+01, 6.2410e+02,\n",
              "         1.0210e-01, 6.1910e-02, 1.8450e-03, 1.1110e-02, 2.4390e-01, 6.2890e-02]),\n",
              " tensor(1))"
            ]
          },
          "metadata": {},
          "execution_count": 14
        }
      ]
    },
    {
      "cell_type": "code",
      "source": [
        "x.unsqueeze(0).shape"
      ],
      "metadata": {
        "colab": {
          "base_uri": "https://localhost:8080/"
        },
        "id": "Y_YT1K5BxV_L",
        "outputId": "c28eb5b4-d2c5-4ae2-fd79-1d2d4f032437"
      },
      "execution_count": 15,
      "outputs": [
        {
          "output_type": "execute_result",
          "data": {
            "text/plain": [
              "torch.Size([1, 30])"
            ]
          },
          "metadata": {},
          "execution_count": 15
        }
      ]
    },
    {
      "cell_type": "code",
      "source": [
        "# 乱数シードを固定\n",
        "torch.manual_seed(0)\n",
        "\n",
        "# 全結合層の定義\n",
        "fc1 = nn.Linear(30, 10)\n",
        "fc2 = nn.Linear(10, 2)"
      ],
      "metadata": {
        "id": "aarModJCxfd7"
      },
      "execution_count": 16,
      "outputs": []
    },
    {
      "cell_type": "markdown",
      "source": [
        "順伝播\n",
        "- 線形変換 fc1\n",
        "- 非線形変換 ReLU\n",
        "- 線形変換 fc2\n",
        "- 非線形変換 Softmax"
      ],
      "metadata": {
        "id": "qyOQu1XdyFGo"
      }
    },
    {
      "cell_type": "code",
      "source": [
        "x.unsqueeze(0).shape"
      ],
      "metadata": {
        "colab": {
          "base_uri": "https://localhost:8080/"
        },
        "id": "iAWNPg3mydgR",
        "outputId": "dbbbae3b-d3d2-42a6-aa4b-7ed41ede5bdf"
      },
      "execution_count": 17,
      "outputs": [
        {
          "output_type": "execute_result",
          "data": {
            "text/plain": [
              "torch.Size([1, 30])"
            ]
          },
          "metadata": {},
          "execution_count": 17
        }
      ]
    },
    {
      "cell_type": "code",
      "source": [
        "h = fc1(x.unsqueeze(0))\n",
        "h"
      ],
      "metadata": {
        "colab": {
          "base_uri": "https://localhost:8080/"
        },
        "id": "0xw3kvQdymTO",
        "outputId": "15ecfd2d-7a9e-4105-fd04-1512c8527a3a"
      },
      "execution_count": 18,
      "outputs": [
        {
          "output_type": "execute_result",
          "data": {
            "text/plain": [
              "tensor([[  0.1830, -29.9828, -72.3173, 142.6534,  51.1358,  95.4793, -50.6195,\n",
              "          87.3314,  94.4835,  10.6316]], grad_fn=<AddmmBackward0>)"
            ]
          },
          "metadata": {},
          "execution_count": 18
        }
      ]
    },
    {
      "cell_type": "code",
      "source": [
        "h.shape"
      ],
      "metadata": {
        "colab": {
          "base_uri": "https://localhost:8080/"
        },
        "id": "3bhdUB3vytiM",
        "outputId": "540549a6-4f8b-48fe-89d6-b0a5a42808f3"
      },
      "execution_count": 19,
      "outputs": [
        {
          "output_type": "execute_result",
          "data": {
            "text/plain": [
              "torch.Size([1, 10])"
            ]
          },
          "metadata": {},
          "execution_count": 19
        }
      ]
    },
    {
      "cell_type": "code",
      "source": [
        "h = F.relu(h)\n",
        "h"
      ],
      "metadata": {
        "colab": {
          "base_uri": "https://localhost:8080/"
        },
        "id": "5Y9aewvwyxql",
        "outputId": "244d4031-3460-4c53-a72d-6f6138ce1b2a"
      },
      "execution_count": 20,
      "outputs": [
        {
          "output_type": "execute_result",
          "data": {
            "text/plain": [
              "tensor([[  0.1830,   0.0000,   0.0000, 142.6534,  51.1358,  95.4793,   0.0000,\n",
              "          87.3314,  94.4835,  10.6316]], grad_fn=<ReluBackward0>)"
            ]
          },
          "metadata": {},
          "execution_count": 20
        }
      ]
    },
    {
      "cell_type": "code",
      "source": [
        "h = fc2(h)\n",
        "h"
      ],
      "metadata": {
        "colab": {
          "base_uri": "https://localhost:8080/"
        },
        "id": "QcM9Ztuoy4G_",
        "outputId": "4702a2c5-ac54-44a1-a8c2-84e0f580f991"
      },
      "execution_count": 21,
      "outputs": [
        {
          "output_type": "execute_result",
          "data": {
            "text/plain": [
              "tensor([[22.3666, 57.7020]], grad_fn=<AddmmBackward0>)"
            ]
          },
          "metadata": {},
          "execution_count": 21
        }
      ]
    },
    {
      "cell_type": "code",
      "source": [
        "h = F.softmax(h)\n",
        "h"
      ],
      "metadata": {
        "colab": {
          "base_uri": "https://localhost:8080/"
        },
        "id": "cqhTbwK4zA_4",
        "outputId": "e86bf6b0-2d80-4767-ab19-29ffad58e1bb"
      },
      "execution_count": 22,
      "outputs": [
        {
          "output_type": "stream",
          "name": "stderr",
          "text": [
            "<ipython-input-22-3e9aa2b0c6ea>:1: UserWarning: Implicit dimension choice for softmax has been deprecated. Change the call to include dim=X as an argument.\n",
            "  h = F.softmax(h)\n"
          ]
        },
        {
          "output_type": "execute_result",
          "data": {
            "text/plain": [
              "tensor([[4.5087e-16, 1.0000e+00]], grad_fn=<SoftmaxBackward0>)"
            ]
          },
          "metadata": {},
          "execution_count": 22
        }
      ]
    },
    {
      "cell_type": "code",
      "source": [
        "# クラスを定義\n",
        "class Net(nn.Module):\n",
        "\n",
        "    # 使用するオブジェクトを定義\n",
        "    def __init__(self):\n",
        "        super().__init__()\n",
        "        self.fc1 = nn.Linear(30, 10)\n",
        "        self.fc2 = nn.Linear(10, 2)\n",
        "\n",
        "\n",
        "    # 順伝播の流れ\n",
        "    def forward(self, x):\n",
        "        h = self.fc1(x)\n",
        "        h = F.relu(h)\n",
        "        h = self.fc2(h)\n",
        "        # h = F.softmax(h) → softmax関数は記述しなくても良い\n",
        "        return h"
      ],
      "metadata": {
        "id": "E4o9DAcfzeI-"
      },
      "execution_count": 59,
      "outputs": []
    },
    {
      "cell_type": "code",
      "source": [
        "# 乱数シードを固定\n",
        "torch.manual_seed(0)\n",
        "\n",
        "# インスタンス化\n",
        "net = Net()"
      ],
      "metadata": {
        "id": "RjcxHtnq0y5E"
      },
      "execution_count": 24,
      "outputs": []
    },
    {
      "cell_type": "code",
      "source": [
        "# ネットワークの構造を確認\n",
        "net"
      ],
      "metadata": {
        "colab": {
          "base_uri": "https://localhost:8080/"
        },
        "id": "KSMW5Rmh1AbV",
        "outputId": "75f03ec2-07ef-4ac8-db17-20c01cd8d56f"
      },
      "execution_count": 25,
      "outputs": [
        {
          "output_type": "execute_result",
          "data": {
            "text/plain": [
              "Net(\n",
              "  (fc1): Linear(in_features=30, out_features=10, bias=True)\n",
              "  (fc2): Linear(in_features=10, out_features=2, bias=True)\n",
              ")"
            ]
          },
          "metadata": {},
          "execution_count": 25
        }
      ]
    },
    {
      "cell_type": "code",
      "source": [
        "x.unsqueeze(0).shape"
      ],
      "metadata": {
        "colab": {
          "base_uri": "https://localhost:8080/"
        },
        "id": "_mVwt9Zu1CTf",
        "outputId": "8af4260d-7c57-4cf7-8a55-4681a8b79518"
      },
      "execution_count": 26,
      "outputs": [
        {
          "output_type": "execute_result",
          "data": {
            "text/plain": [
              "torch.Size([1, 30])"
            ]
          },
          "metadata": {},
          "execution_count": 26
        }
      ]
    },
    {
      "cell_type": "code",
      "source": [
        "# net.forward(x.unsqueeze(0)) → .foward は省略可\n",
        "net(x.unsqueeze(0))"
      ],
      "metadata": {
        "colab": {
          "base_uri": "https://localhost:8080/"
        },
        "id": "GmXvBvr81oAa",
        "outputId": "37421a54-f082-4a90-fb6e-eb57ff366bf5"
      },
      "execution_count": 27,
      "outputs": [
        {
          "output_type": "execute_result",
          "data": {
            "text/plain": [
              "tensor([[22.3666, 57.7020]], grad_fn=<AddmmBackward0>)"
            ]
          },
          "metadata": {},
          "execution_count": 27
        }
      ]
    },
    {
      "cell_type": "markdown",
      "source": [
        "#### 3.損失関数\n",
        "\n",
        "今回は２クラスであるが、多値分類となるようにネットワークを設計したため、損失関数として交差エントロピーを採用する。\n",
        "\n",
        "交差エントロピー\n",
        "\n",
        "$$\n",
        "L = - \\dfrac{1}{N} \\sum_{n=1}^{N} \\sum_{c=1}^{C} t_{nc} \\log y_{nc}\n",
        "$$\n",
        "\n",
        "PyTorch では F.cross_entropy \n",
        "\n",
        "$$\n",
        "u = \\log \\exp(u)\n",
        "$$\n",
        "\n",
        "で定義されており、Softmax関数は自動的に計算に組み込まれている。\n",
        "\n",
        "そのため、ネットワークに softmax関数の記述はいらない。\n",
        "\n"
      ],
      "metadata": {
        "id": "Yw4mghbW1wuV"
      }
    },
    {
      "cell_type": "markdown",
      "source": [
        "##### 実際に u の値を計算してみる"
      ],
      "metadata": {
        "id": "kLnoq-LQ-ZPD"
      }
    },
    {
      "cell_type": "code",
      "source": [
        "import numpy as np\n",
        "\n",
        "# u の値が正で大きい場合\n",
        "u = 1000\n",
        "print(f'u: {u}')\n",
        "print(f'exp(u): {np.exp(u)}')\n",
        "print(f'log exp(u): {np.log(np.exp(u))}')\n",
        "\n",
        "# u の値が負で小さい場合\n",
        "u = -1000\n",
        "print(f'u: {u}')\n",
        "print(f'exp(u): {np.exp(u)}')\n",
        "print(f'log exp(u): {np.log(np.exp(u))}')"
      ],
      "metadata": {
        "colab": {
          "base_uri": "https://localhost:8080/"
        },
        "id": "_iN4B_3TE6AL",
        "outputId": "17536968-b95e-41df-8ae1-f1e182274999"
      },
      "execution_count": 28,
      "outputs": [
        {
          "output_type": "stream",
          "name": "stdout",
          "text": [
            "u: 1000\n",
            "exp(u): inf\n",
            "log exp(u): inf\n",
            "u: -1000\n",
            "exp(u): 0.0\n",
            "log exp(u): -inf\n"
          ]
        },
        {
          "output_type": "stream",
          "name": "stderr",
          "text": [
            "<ipython-input-28-574f2fc193c8>:6: RuntimeWarning: overflow encountered in exp\n",
            "  print(f'exp(u): {np.exp(u)}')\n",
            "<ipython-input-28-574f2fc193c8>:7: RuntimeWarning: overflow encountered in exp\n",
            "  print(f'log exp(u): {np.log(np.exp(u))}')\n",
            "<ipython-input-28-574f2fc193c8>:13: RuntimeWarning: divide by zero encountered in log\n",
            "  print(f'log exp(u): {np.log(np.exp(u))}')\n"
          ]
        }
      ]
    },
    {
      "cell_type": "markdown",
      "source": [
        "この結果からわかる通り、値が大きすぎたり小さすぎる場合に計算の過程で情報が落ちてしまう影響により、本来の値と異なってしまう。\n",
        "\n",
        "この問題を解決するために PyTorch では、交差エントロピーを計算する損失関数に softmax も一緒に計算するように設定してありる。\n",
        "\n",
        "これにより情報落ちの問題を防ぎ、計算を安定させることができる。\n",
        "\n",
        "ユーザー目線では、出力層の softmax 関数は定義しなくて良いと覚えておく。"
      ],
      "metadata": {
        "id": "l_iEpyYVFGFq"
      }
    },
    {
      "cell_type": "markdown",
      "source": [
        "#### 4.最適化手法\n",
        "\n",
        "ネットワークの訓練にあたり使用する最適化手法を選択。\n",
        "\n",
        "optimizer という変数名で定義することが一般的。\n",
        "\n",
        "PyTorch では、torch.optim 内に様々な最適化手法が用意されており、今回は確率的勾配降下法 (SGD) を選択。\n",
        "\n",
        "optimizer を定義する際に、引数としてネットワークのパラメータを渡す必要があり、パラメータの取得には net.parameters() を用いる。\n",
        "\n",
        "もう１つの引数として学習係数 (lr: learning rate) も選択する。"
      ],
      "metadata": {
        "id": "nSXpgCp8FocE"
      }
    },
    {
      "cell_type": "code",
      "source": [
        "# net.parameters()を展開して確認\n",
        "\n",
        "# print(*net.parameters())"
      ],
      "metadata": {
        "id": "tcR189T9G9zO"
      },
      "execution_count": 29,
      "outputs": []
    },
    {
      "cell_type": "code",
      "source": [
        "# 最適化手法の選択\n",
        "optimizer = torch.optim.SGD(net.parameters(), lr=0.01)\n",
        "optimizer"
      ],
      "metadata": {
        "colab": {
          "base_uri": "https://localhost:8080/"
        },
        "id": "sFs3yfe3H2Ez",
        "outputId": "23765a6e-31f7-4fc2-a408-f2c98e3921b8"
      },
      "execution_count": 30,
      "outputs": [
        {
          "output_type": "execute_result",
          "data": {
            "text/plain": [
              "SGD (\n",
              "Parameter Group 0\n",
              "    dampening: 0\n",
              "    differentiable: False\n",
              "    foreach: None\n",
              "    lr: 0.01\n",
              "    maximize: False\n",
              "    momentum: 0\n",
              "    nesterov: False\n",
              "    weight_decay: 0\n",
              ")"
            ]
          },
          "metadata": {},
          "execution_count": 30
        }
      ]
    },
    {
      "cell_type": "markdown",
      "source": [
        "#### 5.ネットワークの流れを確認\n",
        "\n",
        "訓練では、以下の 5 つの手順を繰り返す。\n",
        "\n",
        "- ミニバッチ単位でサンプル X, t を抽出\n",
        "- 現在のパラメータ W, b を利用して、順伝播で予測値 y を算出\n",
        "- 目標値 t と予測値 y から損失関数 L を算出\n",
        "- 誤差逆伝播法に基づいて各パラメータの勾配を算出\n",
        "- 勾配の値に基づいて選択した最適化手法によりパラメータ W, bを更新\n"
      ],
      "metadata": {
        "id": "X_1ahszTI-N-"
      }
    },
    {
      "cell_type": "code",
      "source": [
        "# for batch in train_loader:\n",
        "#     print(batch)"
      ],
      "metadata": {
        "id": "nt59y-9mKK24"
      },
      "execution_count": 31,
      "outputs": []
    },
    {
      "cell_type": "code",
      "source": [
        "# バッチサイズ分のサンプル数の抽出\n",
        "batch = next(iter(train_loader))\n",
        "batch"
      ],
      "metadata": {
        "colab": {
          "base_uri": "https://localhost:8080/"
        },
        "id": "2JCcRk5z7mHE",
        "outputId": "986ec9e1-783f-4b24-d2ff-1f5bc44107cc"
      },
      "execution_count": 32,
      "outputs": [
        {
          "output_type": "execute_result",
          "data": {
            "text/plain": [
              "[tensor([[1.2770e+01, 2.9430e+01, 8.1350e+01, 5.0790e+02, 8.2760e-02, 4.2340e-02,\n",
              "          1.9970e-02, 1.4990e-02, 1.5390e-01, 5.6370e-02, 2.4090e-01, 1.3670e+00,\n",
              "          1.4770e+00, 1.8760e+01, 8.8350e-03, 1.2330e-02, 1.3280e-02, 9.3050e-03,\n",
              "          1.8970e-02, 1.7260e-03, 1.3870e+01, 3.6000e+01, 8.8100e+01, 5.9470e+02,\n",
              "          1.2340e-01, 1.0640e-01, 8.6530e-02, 6.4980e-02, 2.4070e-01, 6.4840e-02],\n",
              "         [1.2460e+01, 2.4040e+01, 8.3970e+01, 4.7590e+02, 1.1860e-01, 2.3960e-01,\n",
              "          2.2730e-01, 8.5430e-02, 2.0300e-01, 8.2430e-02, 2.9760e-01, 1.5990e+00,\n",
              "          2.0390e+00, 2.3940e+01, 7.1490e-03, 7.2170e-02, 7.7430e-02, 1.4320e-02,\n",
              "          1.7890e-02, 1.0080e-02, 1.5090e+01, 4.0680e+01, 9.7650e+01, 7.1140e+02,\n",
              "          1.8530e-01, 1.0580e+00, 1.1050e+00, 2.2100e-01, 4.3660e-01, 2.0750e-01],\n",
              "         [2.3290e+01, 2.6670e+01, 1.5890e+02, 1.6850e+03, 1.1410e-01, 2.0840e-01,\n",
              "          3.5230e-01, 1.6200e-01, 2.2000e-01, 6.2290e-02, 5.5390e-01, 1.5600e+00,\n",
              "          4.6670e+00, 8.3160e+01, 9.3270e-03, 5.1210e-02, 8.9580e-02, 2.4650e-02,\n",
              "          2.1750e-02, 5.1950e-03, 2.5120e+01, 3.2680e+01, 1.7700e+02, 1.9860e+03,\n",
              "          1.5360e-01, 4.1670e-01, 7.8920e-01, 2.7330e-01, 3.1980e-01, 8.7620e-02],\n",
              "         [2.0920e+01, 2.5090e+01, 1.4300e+02, 1.3470e+03, 1.0990e-01, 2.2360e-01,\n",
              "          3.1740e-01, 1.4740e-01, 2.1490e-01, 6.8790e-02, 9.6220e-01, 1.0260e+00,\n",
              "          8.7580e+00, 1.1880e+02, 6.3990e-03, 4.3100e-02, 7.8450e-02, 2.6240e-02,\n",
              "          2.0570e-02, 6.2130e-03, 2.4290e+01, 2.9410e+01, 1.7910e+02, 1.8190e+03,\n",
              "          1.4070e-01, 4.1860e-01, 6.5990e-01, 2.5420e-01, 2.9290e-01, 9.8730e-02],\n",
              "         [1.4220e+01, 2.3120e+01, 9.4370e+01, 6.0990e+02, 1.0750e-01, 2.4130e-01,\n",
              "          1.9810e-01, 6.6180e-02, 2.3840e-01, 7.5420e-02, 2.8600e-01, 2.1100e+00,\n",
              "          2.1120e+00, 3.1720e+01, 7.9700e-03, 1.3540e-01, 1.1660e-01, 1.6660e-02,\n",
              "          5.1130e-02, 1.1720e-02, 1.5740e+01, 3.7180e+01, 1.0640e+02, 7.6240e+02,\n",
              "          1.5330e-01, 9.3270e-01, 8.4880e-01, 1.7720e-01, 5.1660e-01, 1.4460e-01],\n",
              "         [1.3380e+01, 3.0720e+01, 8.6340e+01, 5.5720e+02, 9.2450e-02, 7.4260e-02,\n",
              "          2.8190e-02, 3.2640e-02, 1.3750e-01, 6.0160e-02, 3.4080e-01, 1.9240e+00,\n",
              "          2.2870e+00, 2.8930e+01, 5.8410e-03, 1.2460e-02, 7.9360e-03, 9.1280e-03,\n",
              "          1.5640e-02, 2.9850e-03, 1.5050e+01, 4.1610e+01, 9.6690e+01, 7.0560e+02,\n",
              "          1.1720e-01, 1.4210e-01, 7.0030e-02, 7.7630e-02, 2.1960e-01, 7.6750e-02],\n",
              "         [1.4220e+01, 2.7850e+01, 9.2550e+01, 6.2390e+02, 8.2230e-02, 1.0390e-01,\n",
              "          1.1030e-01, 4.4080e-02, 1.3420e-01, 6.1290e-02, 3.3540e-01, 2.3240e+00,\n",
              "          2.1050e+00, 2.9960e+01, 6.3070e-03, 2.8450e-02, 3.8500e-02, 1.0110e-02,\n",
              "          1.1850e-02, 3.5890e-03, 1.5750e+01, 4.0540e+01, 1.0250e+02, 7.6400e+02,\n",
              "          1.0810e-01, 2.4260e-01, 3.0640e-01, 8.2190e-02, 1.8900e-01, 7.7960e-02],\n",
              "         [1.2540e+01, 1.8070e+01, 7.9420e+01, 4.9190e+02, 7.4360e-02, 2.6500e-02,\n",
              "          1.1940e-03, 5.4490e-03, 1.5280e-01, 5.1850e-02, 3.5110e-01, 9.5270e-01,\n",
              "          2.3290e+00, 2.8300e+01, 5.7830e-03, 4.6930e-03, 7.9290e-04, 3.6170e-03,\n",
              "          2.0430e-02, 1.0580e-03, 1.3720e+01, 2.0980e+01, 8.6820e+01, 5.8570e+02,\n",
              "          9.2930e-02, 4.3270e-02, 3.5810e-03, 1.6350e-02, 2.2330e-01, 5.5210e-02],\n",
              "         [1.3280e+01, 1.3720e+01, 8.5790e+01, 5.4180e+02, 8.3630e-02, 8.5750e-02,\n",
              "          5.0770e-02, 2.8640e-02, 1.6170e-01, 5.5940e-02, 1.8330e-01, 5.3080e-01,\n",
              "          1.5920e+00, 1.5260e+01, 4.2710e-03, 2.0730e-02, 2.8280e-02, 8.4680e-03,\n",
              "          1.4610e-02, 2.6130e-03, 1.4240e+01, 1.7370e+01, 9.6590e+01, 6.2370e+02,\n",
              "          1.1660e-01, 2.6850e-01, 2.8660e-01, 9.1730e-02, 2.7360e-01, 7.3200e-02],\n",
              "         [1.0950e+01, 2.1350e+01, 7.1900e+01, 3.7110e+02, 1.2270e-01, 1.2180e-01,\n",
              "          1.0440e-01, 5.6690e-02, 1.8950e-01, 6.8700e-02, 2.3660e-01, 1.4280e+00,\n",
              "          1.8220e+00, 1.6970e+01, 8.0640e-03, 1.7640e-02, 2.5950e-02, 1.0370e-02,\n",
              "          1.3570e-02, 3.0400e-03, 1.2840e+01, 3.5340e+01, 8.7220e+01, 5.1400e+02,\n",
              "          1.9090e-01, 2.6980e-01, 4.0230e-01, 1.4240e-01, 2.9640e-01, 9.6060e-02]]),\n",
              " tensor([1, 0, 0, 0, 0, 1, 1, 1, 1, 0])]"
            ]
          },
          "metadata": {},
          "execution_count": 32
        }
      ]
    },
    {
      "cell_type": "code",
      "source": [
        "# 入力値と目標値に分割(step1)\n",
        "x, t = batch"
      ],
      "metadata": {
        "id": "wJUW3m7g72__"
      },
      "execution_count": 33,
      "outputs": []
    },
    {
      "cell_type": "code",
      "source": [
        "x.shape"
      ],
      "metadata": {
        "colab": {
          "base_uri": "https://localhost:8080/"
        },
        "id": "qvwt-fZH8YIp",
        "outputId": "b92d9f1b-9a80-4f5c-b3b5-0f869082ffbd"
      },
      "execution_count": 34,
      "outputs": [
        {
          "output_type": "execute_result",
          "data": {
            "text/plain": [
              "torch.Size([10, 30])"
            ]
          },
          "metadata": {},
          "execution_count": 34
        }
      ]
    },
    {
      "cell_type": "code",
      "source": [
        "# forward の計算(step2)\n",
        "y = net(x)\n",
        "y"
      ],
      "metadata": {
        "colab": {
          "base_uri": "https://localhost:8080/"
        },
        "id": "-Z7KVqBo8c9n",
        "outputId": "953b082e-c938-4e5a-da8c-50cc3f3b2306"
      },
      "execution_count": 35,
      "outputs": [
        {
          "output_type": "execute_result",
          "data": {
            "text/plain": [
              "tensor([[ 20.6692,  56.7171],\n",
              "        [ 17.0223,  62.1575],\n",
              "        [ 65.7915, 175.6876],\n",
              "        [ 50.2580, 151.4434],\n",
              "        [ 24.6620,  69.8544],\n",
              "        [ 21.4863,  64.4037],\n",
              "        [ 24.7339,  70.3620],\n",
              "        [ 20.9930,  54.4346],\n",
              "        [ 23.8985,  60.1556],\n",
              "        [ 14.8905,  47.4721]], grad_fn=<AddmmBackward0>)"
            ]
          },
          "metadata": {},
          "execution_count": 35
        }
      ]
    },
    {
      "cell_type": "code",
      "source": [
        "# 損失関数の計算(step3)\n",
        "loss = F.cross_entropy(y, t)\n",
        "loss"
      ],
      "metadata": {
        "colab": {
          "base_uri": "https://localhost:8080/"
        },
        "id": "fWfLH7xV84-V",
        "outputId": "f63ac7a2-97c9-4dec-8e6e-a58494888b7d"
      },
      "execution_count": 36,
      "outputs": [
        {
          "output_type": "execute_result",
          "data": {
            "text/plain": [
              "tensor(33.3991, grad_fn=<NllLossBackward0>)"
            ]
          },
          "metadata": {},
          "execution_count": 36
        }
      ]
    },
    {
      "cell_type": "code",
      "source": [
        "# 全結合層 fc1 の重みに関する勾配\n",
        "net.fc1.bias.grad"
      ],
      "metadata": {
        "id": "4UPaOZts9Qxv"
      },
      "execution_count": 37,
      "outputs": []
    },
    {
      "cell_type": "code",
      "source": [
        "# 全結合層 fc1 のバイアスに関する勾配\n",
        "net.fc1.bias.grad"
      ],
      "metadata": {
        "id": "1fdwh3gn9s8J"
      },
      "execution_count": 38,
      "outputs": []
    },
    {
      "cell_type": "code",
      "source": [
        "# 勾配情報の初期化と勾配の算出(step4)\n",
        "optimizer.zero_grad() # 初期化\n",
        "loss.backward() # 算出"
      ],
      "metadata": {
        "id": "D4V-N98O99gN"
      },
      "execution_count": 39,
      "outputs": []
    },
    {
      "cell_type": "code",
      "source": [
        "# 勾配の情報を用いたパラメータの更新(step5)\n",
        "optimizer.step()"
      ],
      "metadata": {
        "id": "aWok29hn---L"
      },
      "execution_count": 40,
      "outputs": []
    },
    {
      "cell_type": "code",
      "source": [
        "net.fc1.weight"
      ],
      "metadata": {
        "colab": {
          "base_uri": "https://localhost:8080/"
        },
        "id": "WK3P5_Lh_Laj",
        "outputId": "03565149-242c-45ba-84d2-2efa2e402c6d"
      },
      "execution_count": 41,
      "outputs": [
        {
          "output_type": "execute_result",
          "data": {
            "text/plain": [
              "Parameter containing:\n",
              "tensor([[-2.4745e-02,  6.3585e-02, -3.0799e-01, -1.4166e+00, -7.0483e-02,\n",
              "          4.8663e-02, -3.9600e-03,  1.4461e-01, -1.6507e-02,  4.8209e-02,\n",
              "         -5.5844e-02, -3.8094e-02, -1.7996e-01, -1.9935e-01, -7.5272e-02,\n",
              "          6.6719e-03,  7.2067e-02,  1.0952e-01, -1.2381e-01, -7.9515e-02,\n",
              "          3.9725e-02,  1.0154e-01, -2.2250e-01, -1.5181e+00, -2.9663e-02,\n",
              "          1.8435e-02,  1.6423e-01, -1.6967e-01, -1.1547e-01, -4.6403e-02],\n",
              "        [-7.1167e-02,  1.5774e-01, -1.1834e-01, -8.4045e-02, -1.2755e-01,\n",
              "         -1.7099e-01, -1.0658e-01,  1.5694e-01,  8.1468e-02,  8.8489e-02,\n",
              "          9.6019e-03, -9.3603e-02,  3.0889e-02, -1.7047e-01, -1.3192e-01,\n",
              "         -9.4122e-02,  1.1519e-01,  1.0705e-01, -8.0971e-02, -6.5877e-03,\n",
              "          1.1677e-01,  1.8150e-01,  7.2460e-02,  2.4664e-02,  1.2241e-01,\n",
              "         -1.0750e-01,  3.4022e-02, -1.4155e-01, -1.2654e-01, -9.4315e-02],\n",
              "        [ 8.2610e-02,  7.3424e-02, -1.0815e-01,  5.5157e-02,  1.0023e-01,\n",
              "         -2.3044e-02,  6.9710e-03,  4.2303e-02,  1.1326e-01,  1.7531e-01,\n",
              "         -1.4070e-01, -6.6908e-02,  7.1753e-02,  1.5127e-01,  1.5888e-01,\n",
              "          1.6110e-01,  3.6335e-02, -1.5876e-01,  1.6795e-02, -1.1422e-01,\n",
              "         -1.7015e-01,  1.6222e-01,  1.3882e-01, -1.8212e-01,  3.4173e-02,\n",
              "         -3.0756e-02, -3.0045e-02, -8.3575e-02,  7.0210e-02, -1.0814e-01],\n",
              "        [ 5.5453e-02,  7.5463e-02,  5.3270e-02, -5.6124e-01, -1.8078e-01,\n",
              "         -1.1858e-01,  9.0994e-02,  3.8140e-02, -1.4257e-01, -1.0518e-01,\n",
              "          1.7143e-01,  1.2194e-01, -8.2327e-02, -8.4459e-02, -1.7393e-01,\n",
              "         -3.3264e-03, -1.3754e-01, -1.4084e-01, -1.0077e-02,  2.7408e-02,\n",
              "         -8.7823e-02,  8.3753e-02, -2.0189e-01, -6.4670e-01,  1.2500e-01,\n",
              "         -1.5440e-01, -4.5973e-02,  8.0884e-03,  2.6377e-02,  4.3213e-02],\n",
              "        [ 6.3550e-02, -9.6378e-04, -1.4371e-01, -3.5776e-01, -1.7519e-01,\n",
              "         -1.0832e-01, -4.5822e-02, -8.8986e-02, -6.3976e-02, -1.4968e-01,\n",
              "         -3.9067e-02,  3.8262e-02, -1.2086e-01, -3.6539e-02,  1.3069e-01,\n",
              "         -1.8800e-02,  5.0357e-03, -1.5760e-02,  3.6937e-02,  1.1608e-01,\n",
              "          1.6373e-01,  9.8601e-02,  1.0928e-01, -5.8637e-01, -1.6409e-01,\n",
              "         -8.6861e-02,  1.2394e-01, -1.2892e-03, -9.0932e-02, -1.3997e-01],\n",
              "        [-1.7695e-01, -1.6304e-01, -7.8091e-02, -2.3368e-01,  9.8665e-02,\n",
              "         -1.7616e-01,  1.1380e-01, -1.4290e-01, -3.8677e-02, -7.4055e-02,\n",
              "         -3.5340e-02, -3.6421e-02, -1.6528e-01, -1.7806e-01, -2.8572e-02,\n",
              "          2.3373e-03, -8.2968e-02,  6.8769e-02, -1.6434e-01, -1.2324e-02,\n",
              "          1.5364e-01, -8.7505e-02,  1.1673e-01, -3.6464e-01, -1.6483e-01,\n",
              "          1.1528e-01, -2.1351e-02, -8.1582e-02,  1.4586e-01, -1.4758e-01],\n",
              "        [ 1.9591e-02, -3.8225e-02,  1.3038e-01,  5.0965e-02,  8.7728e-02,\n",
              "          6.4478e-02, -4.3904e-02, -3.8396e-02, -1.5046e-01,  9.8927e-02,\n",
              "          1.4496e-01,  1.2492e-01, -1.2878e-01,  8.1428e-03, -1.2870e-01,\n",
              "         -1.0050e-01, -1.0639e-01,  6.2394e-02, -1.0880e-01, -3.9833e-03,\n",
              "          7.6806e-03,  1.1769e-01, -1.3801e-01, -1.2534e-01, -1.0601e-01,\n",
              "          1.2779e-01, -6.5629e-02,  1.5400e-01,  6.6020e-02,  2.3119e-02],\n",
              "        [-4.5719e-03, -4.0813e-02,  1.2316e-03, -2.1791e-01, -1.3053e-03,\n",
              "          2.3255e-02, -1.4286e-01, -9.5713e-02,  1.4739e-01, -1.4818e-01,\n",
              "         -1.3202e-02,  1.8031e-01,  6.5191e-02, -5.6103e-03, -1.5822e-01,\n",
              "          9.0431e-02, -1.3006e-01, -5.1830e-02, -6.1262e-02, -2.7038e-02,\n",
              "         -1.6570e-03,  1.4371e-01, -2.6214e-03, -6.3877e-02,  1.1165e-01,\n",
              "         -1.1555e-01,  8.1736e-02, -1.2910e-01, -7.7453e-02,  5.3674e-02],\n",
              "        [ 5.8900e-02,  1.3494e-01, -6.8117e-02, -7.5673e-02,  9.3984e-02,\n",
              "         -1.7658e-01,  1.3198e-01, -1.5098e-01,  2.4983e-03, -3.1047e-02,\n",
              "         -9.6196e-02,  2.4000e-02,  1.5065e-01, -5.8017e-02, -1.0839e-01,\n",
              "         -6.7528e-02, -1.8096e-01,  8.2411e-02, -8.7686e-02, -1.2184e-01,\n",
              "         -1.0676e-01,  1.0201e-01,  8.5731e-02,  4.2098e-02,  6.6210e-02,\n",
              "         -6.1025e-02, -5.1084e-02,  5.3920e-02,  1.5005e-01,  4.9630e-02],\n",
              "        [-7.1766e-02, -6.4341e-02, -7.3993e-02,  8.4127e-01, -1.0236e-01,\n",
              "         -1.6259e-01,  1.6031e-01, -1.1847e-01, -2.0580e-02,  5.2370e-02,\n",
              "          6.2338e-03, -1.2147e-01, -1.4411e-01,  1.9457e-01,  2.9737e-02,\n",
              "          1.5153e-01, -6.1137e-02,  5.3795e-02, -4.1728e-02, -8.1128e-03,\n",
              "         -9.4569e-02,  9.3058e-02,  1.7336e-01,  1.0310e+00, -4.0914e-02,\n",
              "         -1.1199e-01,  1.2694e-01, -1.3572e-01,  7.5127e-02, -6.1278e-02]],\n",
              "       requires_grad=True)"
            ]
          },
          "metadata": {},
          "execution_count": 41
        }
      ]
    },
    {
      "cell_type": "code",
      "source": [
        "# 演算に使用できる GPU の有無を確認\n",
        "device = torch.device('cuda:0' if torch.cuda.is_available() else 'cpu')\n",
        "device"
      ],
      "metadata": {
        "colab": {
          "base_uri": "https://localhost:8080/"
        },
        "id": "29mtpfQp_4K1",
        "outputId": "b4565ec2-ec10-428e-c9d2-a9d0a78a67cd"
      },
      "execution_count": 42,
      "outputs": [
        {
          "output_type": "execute_result",
          "data": {
            "text/plain": [
              "device(type='cuda', index=0)"
            ]
          },
          "metadata": {},
          "execution_count": 42
        }
      ]
    },
    {
      "cell_type": "code",
      "source": [
        "# 指定したデバイスへネットワークの転送\n",
        "net.to(device)"
      ],
      "metadata": {
        "colab": {
          "base_uri": "https://localhost:8080/"
        },
        "id": "cT5DcSp0A2t8",
        "outputId": "a9330716-10d3-4ae7-def6-dc0968d94f23"
      },
      "execution_count": 43,
      "outputs": [
        {
          "output_type": "execute_result",
          "data": {
            "text/plain": [
              "Net(\n",
              "  (fc1): Linear(in_features=30, out_features=10, bias=True)\n",
              "  (fc2): Linear(in_features=10, out_features=2, bias=True)\n",
              ")"
            ]
          },
          "metadata": {},
          "execution_count": 43
        }
      ]
    },
    {
      "cell_type": "code",
      "source": [
        "x = x.to(device)\n",
        "t = t.to(device)"
      ],
      "metadata": {
        "id": "kw3rCbe3Bfvi"
      },
      "execution_count": 44,
      "outputs": []
    },
    {
      "cell_type": "code",
      "source": [
        "y = net(x)\n",
        "y"
      ],
      "metadata": {
        "colab": {
          "base_uri": "https://localhost:8080/"
        },
        "id": "4WCbrTfBCU1F",
        "outputId": "b639b658-6cb1-486b-abb2-79e74f3c8b08"
      },
      "execution_count": 45,
      "outputs": [
        {
          "output_type": "execute_result",
          "data": {
            "text/plain": [
              "tensor([[ 148.3002, -284.6127],\n",
              "        [ 163.9481, -312.1373],\n",
              "        [ 493.4534, -945.2295],\n",
              "        [ 430.1196, -824.0096],\n",
              "        [ 185.5045, -355.8210],\n",
              "        [ 170.7496, -327.5804],\n",
              "        [ 187.2742, -359.2082],\n",
              "        [ 145.2411, -278.7576],\n",
              "        [ 156.5140, -300.3338],\n",
              "        [ 121.6984, -232.1702]], device='cuda:0', grad_fn=<AddmmBackward0>)"
            ]
          },
          "metadata": {},
          "execution_count": 45
        }
      ]
    },
    {
      "cell_type": "markdown",
      "source": [
        "#### 6.ネットワークを訓練"
      ],
      "metadata": {
        "id": "7DKkME-iCdSi"
      }
    },
    {
      "cell_type": "code",
      "source": [
        "# エポック数\n",
        "max_epoch = 1 # 1epoch = 34 iteration"
      ],
      "metadata": {
        "id": "mWrY0zw9C3pg"
      },
      "execution_count": 47,
      "outputs": []
    },
    {
      "cell_type": "code",
      "source": [
        "# ネットワークの初期化\n",
        "torch.manual_seed(0)\n",
        "net = Net().to(device)"
      ],
      "metadata": {
        "id": "nFEGCXblDBjp"
      },
      "execution_count": 48,
      "outputs": []
    },
    {
      "cell_type": "code",
      "source": [
        "# 最適化手法の選択\n",
        "optimizer = torch.optim.SGD(net.parameters(), lr=0.02)"
      ],
      "metadata": {
        "id": "aVglL9BpDWKv"
      },
      "execution_count": 56,
      "outputs": []
    },
    {
      "cell_type": "code",
      "source": [
        "# 訓練のループ\n",
        "for epoch in range(max_epoch):\n",
        "\n",
        "    for batch in train_loader:\n",
        "\n",
        "        # step1\n",
        "        x, t = batch\n",
        "        x = x.to(device)\n",
        "        t = t.to(device)\n",
        "\n",
        "        # step2\n",
        "        y = net(x)\n",
        "\n",
        "        # step3\n",
        "        loss = F.cross_entropy(y, t)\n",
        "        print(f'loss: {loss}')\n",
        "\n",
        "        # step4\n",
        "        optimizer.zero_grad()\n",
        "        loss.backward()\n",
        "\n",
        "        # step5\n",
        "        optimizer.step()"
      ],
      "metadata": {
        "colab": {
          "base_uri": "https://localhost:8080/"
        },
        "id": "x2kEL5l-Dmq1",
        "outputId": "7edc7842-5ac4-4313-ed25-b3f15f2e7cfa"
      },
      "execution_count": 60,
      "outputs": [
        {
          "output_type": "stream",
          "name": "stdout",
          "text": [
            "loss: 19.676408767700195\n",
            "loss: 180.4086151123047\n",
            "loss: 0.6949144601821899\n",
            "loss: 0.6925337910652161\n",
            "loss: 0.6931600570678711\n",
            "loss: 0.6921578645706177\n",
            "loss: 0.6931714415550232\n",
            "loss: 0.6917929649353027\n",
            "loss: 0.6949502229690552\n",
            "loss: 0.6904767751693726\n",
            "loss: 1.1271803379058838\n",
            "loss: 0.690382182598114\n",
            "loss: 0.6900392770767212\n",
            "loss: 0.6824897527694702\n",
            "loss: 0.6886609792709351\n",
            "loss: 0.6729834675788879\n",
            "loss: 0.6937034130096436\n",
            "loss: 0.6870874166488647\n",
            "loss: 0.7006877660751343\n",
            "loss: 0.6807309985160828\n",
            "loss: 0.6865910291671753\n",
            "loss: 0.6787906289100647\n",
            "loss: 0.669226348400116\n",
            "loss: 0.7129955887794495\n",
            "loss: 0.7025274634361267\n",
            "loss: 0.6859496831893921\n",
            "loss: 0.6690613031387329\n",
            "loss: 0.6848255395889282\n",
            "loss: 0.6651143431663513\n",
            "loss: 0.6837738156318665\n",
            "loss: 0.6724283695220947\n",
            "loss: 0.6712482571601868\n",
            "loss: 0.6700915694236755\n",
            "loss: 0.6557782888412476\n"
          ]
        }
      ]
    },
    {
      "cell_type": "markdown",
      "source": [
        "#### 7.評価指標の算出"
      ],
      "metadata": {
        "id": "NAGq2GFjE9Hs"
      }
    },
    {
      "cell_type": "code",
      "source": [
        "x, t = next(iter(train_loader))"
      ],
      "metadata": {
        "id": "m_ldc2eaGU9P"
      },
      "execution_count": 62,
      "outputs": []
    },
    {
      "cell_type": "code",
      "source": [
        "net.cpu()"
      ],
      "metadata": {
        "colab": {
          "base_uri": "https://localhost:8080/"
        },
        "id": "vMUVsAM1MZDz",
        "outputId": "033008e7-e10a-4567-e2f4-b041cd91d7ea"
      },
      "execution_count": 65,
      "outputs": [
        {
          "output_type": "execute_result",
          "data": {
            "text/plain": [
              "Net(\n",
              "  (fc1): Linear(in_features=30, out_features=10, bias=True)\n",
              "  (fc2): Linear(in_features=10, out_features=2, bias=True)\n",
              ")"
            ]
          },
          "metadata": {},
          "execution_count": 65
        }
      ]
    },
    {
      "cell_type": "code",
      "source": [
        "y = net(x)\n",
        "y"
      ],
      "metadata": {
        "colab": {
          "base_uri": "https://localhost:8080/"
        },
        "id": "hMCAdwOUGlDC",
        "outputId": "05ee9643-1c18-45ae-9e5c-117665f3c0a8"
      },
      "execution_count": 66,
      "outputs": [
        {
          "output_type": "execute_result",
          "data": {
            "text/plain": [
              "tensor([[-0.3382, -0.1958],\n",
              "        [-0.3382, -0.1958],\n",
              "        [-0.3382, -0.1958],\n",
              "        [-0.3382, -0.1958],\n",
              "        [-0.3382, -0.1958],\n",
              "        [-0.3382, -0.1958],\n",
              "        [-0.3382, -0.1958],\n",
              "        [-0.3382, -0.1958],\n",
              "        [-0.3382, -0.1958],\n",
              "        [-0.3382, -0.1958]], grad_fn=<AddmmBackward0>)"
            ]
          },
          "metadata": {},
          "execution_count": 66
        }
      ]
    },
    {
      "cell_type": "code",
      "source": [
        "t"
      ],
      "metadata": {
        "colab": {
          "base_uri": "https://localhost:8080/"
        },
        "id": "-utZyWcmMIm1",
        "outputId": "8218ab90-c3d1-4aaa-8cdc-f57bccafa720"
      },
      "execution_count": 67,
      "outputs": [
        {
          "output_type": "execute_result",
          "data": {
            "text/plain": [
              "tensor([0, 0, 0, 0, 1, 0, 1, 1, 0, 1])"
            ]
          },
          "metadata": {},
          "execution_count": 67
        }
      ]
    },
    {
      "cell_type": "code",
      "source": [
        "y_label = torch.argmax(y, dim=1)\n",
        "y_label"
      ],
      "metadata": {
        "colab": {
          "base_uri": "https://localhost:8080/"
        },
        "id": "BC_xYgPJM77N",
        "outputId": "7e10ce61-306d-43e5-e48a-1fc0f6036142"
      },
      "execution_count": 71,
      "outputs": [
        {
          "output_type": "execute_result",
          "data": {
            "text/plain": [
              "tensor([1, 1, 1, 1, 1, 1, 1, 1, 1, 1])"
            ]
          },
          "metadata": {},
          "execution_count": 71
        }
      ]
    },
    {
      "cell_type": "code",
      "source": [
        "y_label == t"
      ],
      "metadata": {
        "colab": {
          "base_uri": "https://localhost:8080/"
        },
        "id": "zCcR9RhmMo7e",
        "outputId": "ca8fc3ce-3711-4ea0-f062-616add1e4475"
      },
      "execution_count": 73,
      "outputs": [
        {
          "output_type": "execute_result",
          "data": {
            "text/plain": [
              "tensor([False, False, False, False,  True, False,  True,  True, False,  True])"
            ]
          },
          "metadata": {},
          "execution_count": 73
        }
      ]
    },
    {
      "cell_type": "code",
      "source": [
        "(y_label == t).sum()"
      ],
      "metadata": {
        "colab": {
          "base_uri": "https://localhost:8080/"
        },
        "id": "2ESWDF1LNfmp",
        "outputId": "561ff7bb-1724-4aa6-c334-543531987c17"
      },
      "execution_count": 75,
      "outputs": [
        {
          "output_type": "execute_result",
          "data": {
            "text/plain": [
              "tensor(4)"
            ]
          },
          "metadata": {},
          "execution_count": 75
        }
      ]
    },
    {
      "cell_type": "code",
      "source": [
        "len(t)"
      ],
      "metadata": {
        "colab": {
          "base_uri": "https://localhost:8080/"
        },
        "id": "f6TERyAWNqds",
        "outputId": "2553f69d-e586-4527-85bd-364689cd3090"
      },
      "execution_count": 76,
      "outputs": [
        {
          "output_type": "execute_result",
          "data": {
            "text/plain": [
              "10"
            ]
          },
          "metadata": {},
          "execution_count": 76
        }
      ]
    },
    {
      "cell_type": "code",
      "source": [
        "(y_label == t).sum() / len(t)"
      ],
      "metadata": {
        "colab": {
          "base_uri": "https://localhost:8080/"
        },
        "id": "0I0oZ4WVNwjk",
        "outputId": "6b6c15b3-d14a-484b-c9b2-1f0ee3041ac6"
      },
      "execution_count": 77,
      "outputs": [
        {
          "output_type": "execute_result",
          "data": {
            "text/plain": [
              "tensor(0.4000)"
            ]
          },
          "metadata": {},
          "execution_count": 77
        }
      ]
    },
    {
      "cell_type": "markdown",
      "source": [
        "正解率を追加"
      ],
      "metadata": {
        "id": "f4S6ZS4YN6pJ"
      }
    },
    {
      "cell_type": "code",
      "source": [
        "# ネットワークの初期化\n",
        "torch.manual_seed(0)\n",
        "net = Net().to(device)\n",
        "\n",
        "# 最適化手法の選択\n",
        "optimizer = torch.optim.SGD(net.parameters(), lr=0.02)"
      ],
      "metadata": {
        "id": "9l5YYHBQOUzD"
      },
      "execution_count": 79,
      "outputs": []
    },
    {
      "cell_type": "code",
      "source": [
        "# 訓練のループ\n",
        "for epoch in range(max_epoch):\n",
        "\n",
        "    for batch in train_loader:\n",
        "\n",
        "        # step1\n",
        "        x, t = batch\n",
        "        x = x.to(device)\n",
        "        t = t.to(device)\n",
        "\n",
        "        # step2\n",
        "        y = net(x)\n",
        "\n",
        "        # 正解率(accuracy)を追加\n",
        "        y_label = torch.argmax(y, dim=1)\n",
        "        accuracy = (y_label == t).sum() / len(t)\n",
        "        print(f'accuracy: {accuracy:2f}')\n",
        "\n",
        "        # step3\n",
        "        loss = F.cross_entropy(y, t)\n",
        "        # print(f'loss: {loss}')\n",
        "\n",
        "        # step4\n",
        "        optimizer.zero_grad()\n",
        "        loss.backward()\n",
        "\n",
        "        # step5\n",
        "        optimizer.step()"
      ],
      "metadata": {
        "colab": {
          "base_uri": "https://localhost:8080/"
        },
        "outputId": "618ba2ba-df46-4083-f9fa-71e9774f6cd2",
        "id": "zlsEINcHOUzD"
      },
      "execution_count": 80,
      "outputs": [
        {
          "output_type": "stream",
          "name": "stdout",
          "text": [
            "accuracy: 0.500000\n",
            "accuracy: 0.300000\n",
            "accuracy: 0.500000\n",
            "accuracy: 0.000000\n",
            "accuracy: 0.800000\n",
            "accuracy: 0.600000\n",
            "accuracy: 0.700000\n",
            "accuracy: 0.600000\n",
            "accuracy: 0.300000\n",
            "accuracy: 0.600000\n",
            "accuracy: 0.900000\n",
            "accuracy: 0.800000\n",
            "accuracy: 0.700000\n",
            "accuracy: 0.500000\n",
            "accuracy: 0.600000\n",
            "accuracy: 0.400000\n",
            "accuracy: 0.700000\n",
            "accuracy: 0.800000\n",
            "accuracy: 0.400000\n",
            "accuracy: 0.700000\n",
            "accuracy: 0.900000\n",
            "accuracy: 0.500000\n",
            "accuracy: 0.500000\n",
            "accuracy: 0.400000\n",
            "accuracy: 1.000000\n",
            "accuracy: 0.500000\n",
            "accuracy: 0.500000\n",
            "accuracy: 0.400000\n",
            "accuracy: 0.600000\n",
            "accuracy: 0.600000\n",
            "accuracy: 0.500000\n",
            "accuracy: 0.600000\n",
            "accuracy: 0.600000\n",
            "accuracy: 0.700000\n"
          ]
        }
      ]
    },
    {
      "cell_type": "markdown",
      "source": [
        "#### 8.訓練後の正解率を検証\n",
        "with torch.no_grad"
      ],
      "metadata": {
        "id": "XDMACzZ6PNfC"
      }
    },
    {
      "cell_type": "code",
      "source": [
        "# val_lorder\n",
        "def calc_accuracy(data_loader):\n",
        "\n",
        "    with torch.no_grad():\n",
        "        total = 0\n",
        "        correct = 0\n",
        "\n",
        "        for batch in data_loader:\n",
        "            x, t = batch\n",
        "            x = x.to(device)\n",
        "            t = t.to(device)\n",
        "            y = net(x)\n",
        "\n",
        "            y_label = torch.argmax(y, dim=1)\n",
        "            total += len(t)\n",
        "            correct += (y_label == t).sum()\n",
        "\n",
        "        accuracy = correct / total\n",
        "\n",
        "    return accuracy"
      ],
      "metadata": {
        "id": "xM9sVQ-LPbZ4"
      },
      "execution_count": 89,
      "outputs": []
    },
    {
      "cell_type": "code",
      "source": [
        "# 検証データで確認\n",
        "calc_accuracy(val_loader)"
      ],
      "metadata": {
        "colab": {
          "base_uri": "https://localhost:8080/"
        },
        "id": "IT_2qGb8QdoD",
        "outputId": "57c84b52-3a83-40bc-e5cd-8b4f69232f46"
      },
      "execution_count": 93,
      "outputs": [
        {
          "output_type": "execute_result",
          "data": {
            "text/plain": [
              "tensor(0.6637, device='cuda:0')"
            ]
          },
          "metadata": {},
          "execution_count": 93
        }
      ]
    },
    {
      "cell_type": "code",
      "source": [
        "# テストデータで確認\n",
        "calc_accuracy(test_loader)"
      ],
      "metadata": {
        "colab": {
          "base_uri": "https://localhost:8080/"
        },
        "id": "qmgTjFvwQfQc",
        "outputId": "52d45605-f9bd-4560-a9ef-7fe9dc84c0f9"
      },
      "execution_count": 92,
      "outputs": [
        {
          "output_type": "execute_result",
          "data": {
            "text/plain": [
              "tensor(0.6087, device='cuda:0')"
            ]
          },
          "metadata": {},
          "execution_count": 92
        }
      ]
    },
    {
      "cell_type": "code",
      "source": [],
      "metadata": {
        "id": "EucKFGuaRGSV"
      },
      "execution_count": null,
      "outputs": []
    }
  ]
}